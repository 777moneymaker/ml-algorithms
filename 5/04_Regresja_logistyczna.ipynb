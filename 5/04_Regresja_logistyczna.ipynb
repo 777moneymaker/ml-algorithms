{
 "cells": [
  {
   "cell_type": "markdown",
   "metadata": {
    "slideshow": {
     "slide_type": "-"
    }
   },
   "source": [
    "### AITech — Uczenie maszynowe — laboratoria\n",
    "# 4. Regresja logistyczna"
   ]
  },
  {
   "cell_type": "markdown",
   "metadata": {},
   "source": [
    "Do wykonania zadań wykorzystaj wiedzę z wykładów *3. Regresja logistyczna* i *4. Metody ewaluacji*."
   ]
  },
  {
   "cell_type": "markdown",
   "metadata": {},
   "source": [
    "## Zadanie 4 (6 punktów)\n",
    "\n",
    "Plik *gratkapl-centrenrm.csv* zawiera dane wzbogacone o nową cechę *Centre*, przyjmującą wartość 1, jeżeli lokalizacja mieszkania to centrum, i 0 w przeciwnym przypadku.\n",
    "\n",
    "Zamiast przywidywania ceny mieszkania, spróbuj przewidzieć lokalizację mieszkania: *centrum* vs. *nie-centrum* za pomocą regresji logistcznej.\n",
    "\n",
    " 1. Podziel dane trenujące na nowe dane treningowe (pierwsze 4/5 danych) i testowe (ostatnie 1/5 danych)\n",
    " 1. Stwórz dwuklasowy model regresji logistycznej, korzystając z cech liczbowych *Price,Rooms,SqrMeters,Floor*. Warto usunąć obserwacje odstające i dokonać normalizacji danych.\n",
    " 1. Podaj procent poprawnych wyników (tzw. skuteczność, *accuracy*) dla zestawu testowego.\n",
    " \n",
    "Otrzymaną wartość porównaj z wynikiem uzyskiwanym przez klasyfikator losowy (czyli taki, który przyporządkowuje losową wartość 0 lub 1 z prawdopodobieństem 1/2)."
   ]
  },
  {
   "cell_type": "markdown",
   "metadata": {},
   "source": [
    "**Uwaga**: Cecha *Centre* została wygenerowana automatycznie na podstawie opisów lokalizacji mieszkań i okazuje się, że jest słabo skorelowana z cechami liczbowymi, dlatego proszę się nie przejmować, jeżeli wartości funkcji regresji logistycznej i przewidywania modelu będą nieco dziwne."
   ]
  },
  {
   "cell_type": "markdown",
   "metadata": {},
   "source": [
    "## Rozwiązanie zadania\n"
   ]
  },
  {
   "cell_type": "code",
   "execution_count": 144,
   "metadata": {},
   "outputs": [],
   "source": [
    "import pandas as pd \n",
    "import numpy as np \n",
    "import matplotlib.pyplot as plt\n",
    "import sklearn\n",
    "from sklearn import linear_model\n",
    "from sklearn import model_selection\n",
    "from sklearn import metrics\n",
    "from IPython.display import Markdown as md\n",
    "import matplotlib.pyplot as pl\n",
    "\n",
    "%matplotlib inline"
   ]
  },
  {
   "cell_type": "code",
   "execution_count": 145,
   "metadata": {},
   "outputs": [],
   "source": [
    "# Funkcje do obliczania regresji logistycznej\n",
    "\n",
    "# Funkcja regresji logistcznej, hipoteza\n",
    "def h(theta, X):\n",
    "    return 1.0/(1.0 + np.exp(-X * theta))\n",
    "\n",
    "# Funkcja kosztu dla regresji logistycznej\n",
    "def J(h, theta, X, y):\n",
    "    m = len(y)\n",
    "    h_val = h(theta, X)\n",
    "    s1 = np.multiply(y, np.log(h_val))\n",
    "    s2 = np.multiply((1 - y), np.log(1 - h_val))\n",
    "    return -np.sum(s1 + s2, axis=0) / m\n",
    "\n",
    "# Gradient dla regresji logistycznej\n",
    "def dJ(h, theta, X, y):\n",
    "    return 1.0 / len(y) * (X.T * (h(theta, X) - y))\n",
    "\n",
    "# Metoda gradientu prostego dla regresji logistycznej\n",
    "def GD(h, fJ, fdJ, theta, X, y, alpha=0.01, eps=10**-3, maxSteps=10000):\n",
    "    errorCurr = fJ(h, theta, X, y)\n",
    "    errors = [[errorCurr, theta]]\n",
    "    while True:\n",
    "        # oblicz nowe theta\n",
    "        theta = theta - alpha * fdJ(h, theta, X, y)\n",
    "        # raportuj poziom błędu\n",
    "        errorCurr, errorPrev = fJ(h, theta, X, y), errorCurr\n",
    "        # kryteria stopu\n",
    "        if abs(errorPrev - errorCurr) <= eps:\n",
    "            break\n",
    "        if len(errors) > maxSteps:\n",
    "            break\n",
    "        errors.append([errorCurr, theta]) \n",
    "    return theta, errors"
   ]
  },
  {
   "cell_type": "code",
   "execution_count": 146,
   "metadata": {},
   "outputs": [],
   "source": [
    "# Funkcja standaryzująca wybrane kolumny\n",
    "def df_standarize(df, cols, axis=0):\n",
    "    return df[cols].apply(lambda x: (x - x.mean()) / x.std(), axis = axis)\n",
    "    "
   ]
  },
  {
   "cell_type": "code",
   "execution_count": 147,
   "metadata": {},
   "outputs": [],
   "source": [
    "df = pd.read_csv(\"gratkapl-centrenrm.csv\")\n",
    "df = df[['Price','Rooms','SqrMeters','Floor', 'Centre']]\n",
    "cols = ['Price','Rooms','SqrMeters','Floor']\n",
    "\n",
    "df[cols] = df_standarize(df, cols)"
   ]
  },
  {
   "cell_type": "code",
   "execution_count": 148,
   "metadata": {},
   "outputs": [],
   "source": [
    "# Przygotowanie danych\n",
    "rows, cols_plus_1 = df.values.shape\n",
    "cols = cols_plus_1 - 1\n",
    "Xn = df.values[:, 0:cols].reshape(rows, cols)\n",
    "\n",
    "XMx4 = np.matrix(np.concatenate((np.ones((rows, 1)), Xn), axis=1)).reshape(rows, cols_plus_1)\n",
    "yMx4 = np.matrix(df.values[:, cols]).reshape(rows, 1)\n"
   ]
  },
  {
   "cell_type": "code",
   "execution_count": 149,
   "metadata": {},
   "outputs": [
    {
     "name": "stdout",
     "output_type": "stream",
     "text": [
      "error = [[0.54773702]]\n",
      "theta = [[-1.09889449]\n",
      " [-0.10539513]\n",
      " [-0.6627883 ]\n",
      " [ 0.74576372]\n",
      " [-0.00829298]]\n"
     ]
    }
   ],
   "source": [
    "XTrain, XTest, yTrain, yTest = model_selection.train_test_split(XMx4, yMx4, test_size=1/5, shuffle=False)\n",
    "# Macierz parametrów początkowych\n",
    "thetaTemp = np.ones(5).reshape(5,1)\n",
    "\n",
    "thetaBest, errors = GD(h, J, dJ, thetaTemp, XTrain, yTrain, \n",
    "                       alpha=0.1, eps=10**-7, maxSteps=1000)\n",
    "print(\"error =\", errors[-1][0])\n",
    "print(\"theta =\", thetaBest)\n"
   ]
  },
  {
   "cell_type": "markdown",
   "metadata": {},
   "source": [
    "### Klasyfikacja i testy"
   ]
  },
  {
   "cell_type": "code",
   "execution_count": 150,
   "metadata": {},
   "outputs": [
    {
     "name": "stdout",
     "output_type": "stream",
     "text": [
      "Predicted = 0 ; true = 1.0, prob = 0.306\n",
      "Predicted = 1 ; true = 1.0, prob = 0.758\n",
      "Predicted = 0 ; true = 1.0, prob = 0.266\n",
      "Predicted = 0 ; true = 0.0, prob = 0.158\n",
      "Predicted = 1 ; true = 0.0, prob = 0.612\n",
      "Predicted = 0 ; true = 0.0, prob = 0.330\n",
      "Predicted = 0 ; true = 0.0, prob = 0.285\n",
      "Predicted = 0 ; true = 0.0, prob = 0.192\n",
      "Predicted = 0 ; true = 0.0, prob = 0.170\n",
      "Predicted = 0 ; true = 1.0, prob = 0.184\n",
      "Predicted = 0 ; true = 0.0, prob = 0.251\n",
      "Predicted = 0 ; true = 0.0, prob = 0.369\n",
      "Predicted = 0 ; true = 0.0, prob = 0.297\n",
      "Predicted = 0 ; true = 0.0, prob = 0.216\n",
      "Predicted = 1 ; true = 1.0, prob = 0.511\n",
      "Predicted = 0 ; true = 0.0, prob = 0.202\n",
      "Predicted = 0 ; true = 0.0, prob = 0.234\n",
      "Predicted = 0 ; true = 0.0, prob = 0.217\n",
      "Predicted = 0 ; true = 0.0, prob = 0.141\n",
      "Predicted = 0 ; true = 0.0, prob = 0.246\n",
      "Predicted = 0 ; true = 0.0, prob = 0.237\n",
      "Predicted = 0 ; true = 1.0, prob = 0.386\n",
      "Predicted = 0 ; true = 0.0, prob = 0.199\n",
      "Predicted = 0 ; true = 0.0, prob = 0.227\n",
      "Predicted = 0 ; true = 0.0, prob = 0.224\n",
      "Predicted = 0 ; true = 0.0, prob = 0.284\n",
      "Predicted = 0 ; true = 0.0, prob = 0.203\n",
      "Predicted = 0 ; true = 1.0, prob = 0.267\n",
      "Predicted = 0 ; true = 0.0, prob = 0.248\n",
      "Predicted = 0 ; true = 1.0, prob = 0.213\n",
      "Predicted = 0 ; true = 0.0, prob = 0.195\n",
      "Predicted = 0 ; true = 0.0, prob = 0.331\n",
      "Predicted = 0 ; true = 1.0, prob = 0.127\n",
      "Predicted = 0 ; true = 0.0, prob = 0.201\n",
      "Predicted = 0 ; true = 0.0, prob = 0.184\n",
      "Predicted = 0 ; true = 0.0, prob = 0.215\n",
      "Predicted = 0 ; true = 0.0, prob = 0.299\n",
      "Predicted = 0 ; true = 1.0, prob = 0.278\n",
      "Predicted = 0 ; true = 0.0, prob = 0.225\n",
      "Predicted = 0 ; true = 0.0, prob = 0.208\n",
      "Predicted = 0 ; true = 0.0, prob = 0.180\n",
      "Predicted = 0 ; true = 0.0, prob = 0.348\n",
      "Predicted = 1 ; true = 0.0, prob = 0.649\n",
      "Predicted = 0 ; true = 0.0, prob = 0.207\n",
      "Predicted = 0 ; true = 0.0, prob = 0.142\n",
      "Predicted = 0 ; true = 0.0, prob = 0.227\n",
      "Predicted = 0 ; true = 0.0, prob = 0.266\n",
      "Predicted = 0 ; true = 0.0, prob = 0.281\n",
      "Predicted = 0 ; true = 1.0, prob = 0.256\n",
      "Predicted = 0 ; true = 0.0, prob = 0.325\n",
      "Predicted = 0 ; true = 0.0, prob = 0.196\n",
      "Predicted = 0 ; true = 0.0, prob = 0.249\n",
      "Predicted = 0 ; true = 0.0, prob = 0.269\n",
      "Predicted = 0 ; true = 0.0, prob = 0.276\n",
      "Predicted = 0 ; true = 1.0, prob = 0.279\n",
      "Predicted = 0 ; true = 0.0, prob = 0.348\n",
      "Predicted = 0 ; true = 0.0, prob = 0.241\n",
      "Predicted = 0 ; true = 0.0, prob = 0.179\n",
      "Predicted = 0 ; true = 0.0, prob = 0.220\n",
      "Predicted = 0 ; true = 0.0, prob = 0.229\n",
      "Predicted = 0 ; true = 0.0, prob = 0.234\n",
      "Predicted = 0 ; true = 0.0, prob = 0.164\n",
      "Predicted = 0 ; true = 0.0, prob = 0.250\n",
      "Predicted = 0 ; true = 0.0, prob = 0.284\n",
      "Predicted = 0 ; true = 1.0, prob = 0.256\n",
      "Predicted = 0 ; true = 0.0, prob = 0.221\n",
      "Predicted = 0 ; true = 1.0, prob = 0.454\n",
      "Predicted = 0 ; true = 0.0, prob = 0.272\n",
      "Predicted = 0 ; true = 0.0, prob = 0.244\n",
      "Predicted = 0 ; true = 1.0, prob = 0.294\n",
      "Predicted = 0 ; true = 0.0, prob = 0.204\n",
      "Predicted = 0 ; true = 1.0, prob = 0.404\n",
      "Predicted = 0 ; true = 0.0, prob = 0.247\n",
      "Predicted = 0 ; true = 0.0, prob = 0.155\n",
      "Predicted = 0 ; true = 0.0, prob = 0.235\n",
      "Predicted = 0 ; true = 1.0, prob = 0.222\n",
      "Predicted = 0 ; true = 0.0, prob = 0.239\n",
      "Predicted = 0 ; true = 0.0, prob = 0.354\n",
      "Predicted = 0 ; true = 0.0, prob = 0.175\n",
      "Predicted = 0 ; true = 0.0, prob = 0.245\n",
      "Predicted = 0 ; true = 0.0, prob = 0.296\n",
      "Predicted = 0 ; true = 0.0, prob = 0.338\n",
      "Predicted = 0 ; true = 0.0, prob = 0.259\n",
      "Predicted = 0 ; true = 0.0, prob = 0.319\n",
      "Predicted = 0 ; true = 1.0, prob = 0.232\n",
      "Predicted = 0 ; true = 0.0, prob = 0.245\n",
      "Predicted = 0 ; true = 1.0, prob = 0.332\n",
      "Predicted = 0 ; true = 0.0, prob = 0.156\n",
      "Predicted = 0 ; true = 0.0, prob = 0.152\n",
      "Predicted = 0 ; true = 0.0, prob = 0.297\n",
      "Predicted = 0 ; true = 1.0, prob = 0.386\n",
      "Predicted = 0 ; true = 0.0, prob = 0.184\n",
      "Predicted = 0 ; true = 0.0, prob = 0.239\n",
      "Predicted = 0 ; true = 0.0, prob = 0.453\n",
      "Predicted = 0 ; true = 1.0, prob = 0.218\n",
      "Predicted = 0 ; true = 0.0, prob = 0.191\n",
      "Predicted = 0 ; true = 1.0, prob = 0.333\n",
      "Predicted = 0 ; true = 1.0, prob = 0.156\n",
      "Predicted = 0 ; true = 1.0, prob = 0.242\n",
      "Predicted = 0 ; true = 0.0, prob = 0.213\n",
      "Predicted = 0 ; true = 0.0, prob = 0.296\n",
      "Predicted = 0 ; true = 1.0, prob = 0.203\n",
      "Predicted = 0 ; true = 0.0, prob = 0.145\n",
      "Predicted = 0 ; true = 1.0, prob = 0.106\n",
      "Predicted = 0 ; true = 0.0, prob = 0.269\n",
      "Predicted = 0 ; true = 0.0, prob = 0.284\n",
      "Predicted = 0 ; true = 1.0, prob = 0.262\n",
      "Predicted = 0 ; true = 0.0, prob = 0.231\n",
      "Predicted = 1 ; true = 1.0, prob = 0.615\n",
      "Predicted = 0 ; true = 1.0, prob = 0.269\n",
      "Predicted = 0 ; true = 0.0, prob = 0.233\n",
      "Predicted = 0 ; true = 0.0, prob = 0.309\n",
      "Predicted = 0 ; true = 0.0, prob = 0.313\n",
      "Predicted = 0 ; true = 0.0, prob = 0.236\n",
      "Predicted = 0 ; true = 0.0, prob = 0.211\n",
      "Predicted = 0 ; true = 0.0, prob = 0.201\n",
      "Predicted = 0 ; true = 0.0, prob = 0.290\n",
      "Predicted = 0 ; true = 0.0, prob = 0.241\n",
      "Predicted = 0 ; true = 0.0, prob = 0.219\n",
      "Predicted = 0 ; true = 0.0, prob = 0.205\n",
      "Predicted = 0 ; true = 0.0, prob = 0.237\n",
      "Predicted = 0 ; true = 0.0, prob = 0.335\n",
      "Predicted = 0 ; true = 0.0, prob = 0.210\n",
      "Predicted = 0 ; true = 0.0, prob = 0.317\n",
      "Predicted = 0 ; true = 1.0, prob = 0.198\n",
      "Predicted = 0 ; true = 1.0, prob = 0.212\n",
      "Predicted = 0 ; true = 0.0, prob = 0.340\n",
      "Predicted = 0 ; true = 0.0, prob = 0.220\n",
      "Predicted = 0 ; true = 0.0, prob = 0.331\n",
      "Predicted = 0 ; true = 0.0, prob = 0.227\n",
      "Predicted = 0 ; true = 1.0, prob = 0.399\n",
      "Predicted = 0 ; true = 0.0, prob = 0.269\n",
      "Predicted = 0 ; true = 0.0, prob = 0.267\n",
      "Predicted = 0 ; true = 0.0, prob = 0.199\n",
      "Predicted = 0 ; true = 0.0, prob = 0.228\n",
      "Predicted = 0 ; true = 0.0, prob = 0.316\n",
      "Predicted = 0 ; true = 0.0, prob = 0.360\n",
      "Predicted = 0 ; true = 1.0, prob = 0.294\n",
      "Predicted = 1 ; true = 1.0, prob = 0.509\n",
      "Predicted = 0 ; true = 0.0, prob = 0.230\n",
      "Predicted = 0 ; true = 0.0, prob = 0.367\n",
      "Predicted = 0 ; true = 0.0, prob = 0.119\n",
      "Predicted = 0 ; true = 0.0, prob = 0.252\n",
      "Predicted = 0 ; true = 0.0, prob = 0.204\n",
      "Predicted = 0 ; true = 1.0, prob = 0.191\n",
      "Predicted = 0 ; true = 0.0, prob = 0.217\n",
      "Predicted = 0 ; true = 1.0, prob = 0.281\n",
      "Predicted = 0 ; true = 0.0, prob = 0.198\n",
      "Predicted = 0 ; true = 1.0, prob = 0.211\n",
      "Predicted = 0 ; true = 0.0, prob = 0.226\n",
      "Predicted = 0 ; true = 0.0, prob = 0.321\n",
      "Predicted = 0 ; true = 0.0, prob = 0.289\n",
      "Predicted = 1 ; true = 1.0, prob = 0.512\n",
      "Predicted = 0 ; true = 0.0, prob = 0.313\n",
      "Predicted = 0 ; true = 1.0, prob = 0.203\n",
      "Predicted = 0 ; true = 1.0, prob = 0.240\n",
      "Predicted = 0 ; true = 0.0, prob = 0.329\n",
      "Predicted = 0 ; true = 0.0, prob = 0.330\n",
      "Predicted = 0 ; true = 0.0, prob = 0.256\n",
      "Predicted = 0 ; true = 0.0, prob = 0.221\n",
      "Predicted = 0 ; true = 0.0, prob = 0.128\n",
      "Predicted = 0 ; true = 0.0, prob = 0.180\n",
      "Predicted = 0 ; true = 1.0, prob = 0.377\n",
      "Predicted = 0 ; true = 0.0, prob = 0.192\n",
      "Predicted = 0 ; true = 0.0, prob = 0.181\n",
      "Predicted = 0 ; true = 0.0, prob = 0.266\n",
      "Predicted = 0 ; true = 0.0, prob = 0.167\n",
      "Predicted = 0 ; true = 1.0, prob = 0.266\n",
      "Predicted = 0 ; true = 0.0, prob = 0.248\n",
      "Predicted = 0 ; true = 0.0, prob = 0.201\n",
      "Predicted = 0 ; true = 1.0, prob = 0.272\n",
      "Predicted = 0 ; true = 0.0, prob = 0.225\n",
      "Predicted = 0 ; true = 0.0, prob = 0.325\n",
      "Predicted = 0 ; true = 0.0, prob = 0.214\n",
      "Predicted = 0 ; true = 1.0, prob = 0.440\n",
      "Predicted = 0 ; true = 0.0, prob = 0.213\n",
      "Predicted = 0 ; true = 0.0, prob = 0.305\n",
      "Predicted = 0 ; true = 0.0, prob = 0.231\n",
      "Predicted = 0 ; true = 1.0, prob = 0.305\n",
      "Predicted = 1 ; true = 1.0, prob = 0.506\n",
      "Predicted = 0 ; true = 0.0, prob = 0.245\n",
      "Predicted = 0 ; true = 0.0, prob = 0.160\n",
      "Predicted = 0 ; true = 0.0, prob = 0.218\n",
      "Predicted = 0 ; true = 0.0, prob = 0.264\n",
      "Predicted = 0 ; true = 0.0, prob = 0.306\n",
      "Predicted = 0 ; true = 0.0, prob = 0.163\n",
      "Predicted = 0 ; true = 0.0, prob = 0.175\n",
      "Predicted = 0 ; true = 0.0, prob = 0.310\n",
      "Predicted = 0 ; true = 0.0, prob = 0.196\n",
      "Predicted = 0 ; true = 0.0, prob = 0.153\n",
      "Predicted = 0 ; true = 0.0, prob = 0.179\n",
      "Predicted = 0 ; true = 0.0, prob = 0.164\n",
      "Predicted = 0 ; true = 1.0, prob = 0.292\n",
      "Predicted = 0 ; true = 1.0, prob = 0.204\n",
      "Predicted = 0 ; true = 0.0, prob = 0.145\n",
      "Predicted = 0 ; true = 0.0, prob = 0.206\n",
      "Predicted = 0 ; true = 0.0, prob = 0.124\n",
      "Predicted = 0 ; true = 0.0, prob = 0.198\n",
      "Predicted = 0 ; true = 0.0, prob = 0.256\n",
      "Predicted = 0 ; true = 1.0, prob = 0.218\n",
      "Predicted = 0 ; true = 0.0, prob = 0.312\n",
      "Predicted = 0 ; true = 0.0, prob = 0.207\n",
      "Predicted = 0 ; true = 1.0, prob = 0.190\n",
      "Predicted = 0 ; true = 0.0, prob = 0.203\n",
      "Predicted = 0 ; true = 0.0, prob = 0.145\n",
      "Predicted = 0 ; true = 0.0, prob = 0.268\n",
      "Predicted = 0 ; true = 1.0, prob = 0.211\n",
      "Predicted = 0 ; true = 0.0, prob = 0.205\n",
      "Predicted = 0 ; true = 0.0, prob = 0.213\n",
      "Predicted = 0 ; true = 0.0, prob = 0.198\n",
      "Predicted = 0 ; true = 0.0, prob = 0.308\n",
      "Predicted = 0 ; true = 0.0, prob = 0.258\n",
      "Predicted = 1 ; true = 1.0, prob = 0.518\n",
      "Predicted = 0 ; true = 1.0, prob = 0.386\n",
      "Predicted = 0 ; true = 0.0, prob = 0.262\n",
      "Predicted = 0 ; true = 0.0, prob = 0.298\n",
      "Predicted = 0 ; true = 0.0, prob = 0.253\n",
      "Predicted = 0 ; true = 0.0, prob = 0.164\n",
      "Predicted = 0 ; true = 0.0, prob = 0.335\n",
      "Predicted = 0 ; true = 0.0, prob = 0.284\n",
      "Predicted = 0 ; true = 1.0, prob = 0.280\n",
      "Predicted = 0 ; true = 0.0, prob = 0.306\n",
      "Predicted = 1 ; true = 0.0, prob = 0.526\n",
      "Predicted = 0 ; true = 0.0, prob = 0.276\n",
      "Predicted = 0 ; true = 0.0, prob = 0.334\n",
      "Predicted = 0 ; true = 0.0, prob = 0.243\n",
      "Predicted = 0 ; true = 1.0, prob = 0.289\n",
      "Predicted = 0 ; true = 0.0, prob = 0.151\n",
      "Predicted = 0 ; true = 1.0, prob = 0.331\n",
      "Predicted = 0 ; true = 1.0, prob = 0.361\n",
      "Predicted = 0 ; true = 0.0, prob = 0.269\n",
      "Predicted = 0 ; true = 0.0, prob = 0.289\n",
      "Predicted = 0 ; true = 0.0, prob = 0.220\n",
      "Predicted = 0 ; true = 0.0, prob = 0.230\n",
      "Predicted = 1 ; true = 1.0, prob = 0.788\n",
      "Predicted = 0 ; true = 1.0, prob = 0.279\n",
      "Predicted = 0 ; true = 0.0, prob = 0.269\n",
      "Predicted = 0 ; true = 0.0, prob = 0.256\n",
      "Predicted = 1 ; true = 1.0, prob = 0.511\n",
      "Predicted = 0 ; true = 0.0, prob = 0.178\n",
      "Predicted = 0 ; true = 0.0, prob = 0.176\n",
      "Predicted = 0 ; true = 0.0, prob = 0.164\n",
      "Predicted = 0 ; true = 1.0, prob = 0.339\n",
      "Predicted = 0 ; true = 0.0, prob = 0.279\n",
      "Predicted = 0 ; true = 1.0, prob = 0.249\n",
      "Predicted = 0 ; true = 1.0, prob = 0.129\n",
      "Predicted = 0 ; true = 0.0, prob = 0.246\n",
      "Predicted = 0 ; true = 0.0, prob = 0.299\n",
      "Predicted = 0 ; true = 0.0, prob = 0.207\n",
      "Predicted = 0 ; true = 0.0, prob = 0.268\n",
      "Predicted = 0 ; true = 0.0, prob = 0.279\n",
      "Predicted = 0 ; true = 0.0, prob = 0.227\n",
      "Predicted = 0 ; true = 0.0, prob = 0.272\n",
      "Predicted = 0 ; true = 0.0, prob = 0.298\n",
      "Predicted = 0 ; true = 0.0, prob = 0.294\n",
      "Predicted = 0 ; true = 0.0, prob = 0.278\n",
      "Predicted = 0 ; true = 1.0, prob = 0.279\n",
      "Predicted = 0 ; true = 0.0, prob = 0.246\n",
      "Predicted = 0 ; true = 0.0, prob = 0.172\n",
      "Predicted = 0 ; true = 0.0, prob = 0.289\n",
      "Predicted = 0 ; true = 1.0, prob = 0.173\n",
      "Predicted = 0 ; true = 1.0, prob = 0.284\n",
      "Predicted = 0 ; true = 0.0, prob = 0.316\n",
      "Predicted = 0 ; true = 0.0, prob = 0.203\n",
      "Predicted = 0 ; true = 1.0, prob = 0.283\n",
      "Predicted = 0 ; true = 1.0, prob = 0.318\n",
      "Predicted = 0 ; true = 0.0, prob = 0.139\n",
      "Predicted = 0 ; true = 0.0, prob = 0.221\n",
      "Predicted = 0 ; true = 0.0, prob = 0.346\n",
      "Predicted = 0 ; true = 1.0, prob = 0.260\n",
      "Predicted = 0 ; true = 0.0, prob = 0.211\n",
      "Predicted = 0 ; true = 0.0, prob = 0.244\n",
      "Predicted = 0 ; true = 0.0, prob = 0.272\n",
      "Predicted = 0 ; true = 1.0, prob = 0.131\n",
      "Predicted = 0 ; true = 0.0, prob = 0.230\n",
      "Predicted = 0 ; true = 0.0, prob = 0.182\n",
      "Predicted = 0 ; true = 0.0, prob = 0.180\n",
      "Predicted = 0 ; true = 0.0, prob = 0.290\n",
      "Predicted = 0 ; true = 0.0, prob = 0.190\n",
      "Predicted = 0 ; true = 0.0, prob = 0.222\n",
      "Predicted = 0 ; true = 1.0, prob = 0.280\n",
      "Predicted = 0 ; true = 1.0, prob = 0.250\n",
      "Predicted = 0 ; true = 0.0, prob = 0.214\n",
      "Predicted = 0 ; true = 0.0, prob = 0.299\n",
      "Predicted = 0 ; true = 0.0, prob = 0.127\n",
      "Predicted = 0 ; true = 0.0, prob = 0.364\n",
      "Predicted = 0 ; true = 0.0, prob = 0.231\n",
      "Predicted = 0 ; true = 0.0, prob = 0.211\n",
      "Predicted = 0 ; true = 0.0, prob = 0.181\n",
      "Predicted = 0 ; true = 0.0, prob = 0.141\n",
      "Predicted = 0 ; true = 0.0, prob = 0.311\n",
      "Predicted = 0 ; true = 0.0, prob = 0.167\n",
      "Predicted = 0 ; true = 0.0, prob = 0.308\n",
      "Predicted = 0 ; true = 0.0, prob = 0.484\n",
      "Predicted = 0 ; true = 0.0, prob = 0.249\n",
      "Predicted = 0 ; true = 1.0, prob = 0.398\n",
      "Predicted = 0 ; true = 0.0, prob = 0.245\n",
      "Predicted = 0 ; true = 0.0, prob = 0.333\n",
      "Predicted = 0 ; true = 0.0, prob = 0.268\n",
      "Predicted = 0 ; true = 0.0, prob = 0.250\n",
      "Predicted = 0 ; true = 0.0, prob = 0.246\n",
      "Predicted = 0 ; true = 0.0, prob = 0.206\n",
      "Predicted = 0 ; true = 0.0, prob = 0.210\n",
      "Predicted = 0 ; true = 1.0, prob = 0.318\n",
      "Predicted = 0 ; true = 1.0, prob = 0.212\n",
      "Predicted = 0 ; true = 1.0, prob = 0.325\n",
      "Predicted = 0 ; true = 0.0, prob = 0.216\n",
      "Predicted = 0 ; true = 0.0, prob = 0.303\n",
      "Predicted = 0 ; true = 0.0, prob = 0.372\n",
      "Predicted = 0 ; true = 1.0, prob = 0.328\n",
      "Predicted = 0 ; true = 1.0, prob = 0.338\n",
      "Predicted = 0 ; true = 0.0, prob = 0.424\n",
      "Predicted = 0 ; true = 0.0, prob = 0.222\n",
      "Predicted = 0 ; true = 1.0, prob = 0.187\n",
      "Predicted = 0 ; true = 0.0, prob = 0.217\n",
      "Predicted = 0 ; true = 1.0, prob = 0.176\n",
      "Predicted = 0 ; true = 0.0, prob = 0.178\n",
      "Predicted = 0 ; true = 0.0, prob = 0.243\n",
      "Predicted = 0 ; true = 1.0, prob = 0.333\n",
      "Predicted = 0 ; true = 1.0, prob = 0.348\n",
      "Predicted = 0 ; true = 0.0, prob = 0.321\n",
      "Predicted = 0 ; true = 1.0, prob = 0.453\n",
      "Predicted = 0 ; true = 1.0, prob = 0.263\n",
      "Predicted = 0 ; true = 0.0, prob = 0.232\n",
      "Predicted = 0 ; true = 1.0, prob = 0.259\n",
      "Predicted = 0 ; true = 0.0, prob = 0.199\n",
      "Predicted = 0 ; true = 1.0, prob = 0.495\n",
      "Predicted = 0 ; true = 0.0, prob = 0.131\n",
      "Predicted = 0 ; true = 0.0, prob = 0.297\n",
      "Predicted = 0 ; true = 0.0, prob = 0.194\n",
      "Predicted = 0 ; true = 0.0, prob = 0.269\n",
      "Predicted = 0 ; true = 1.0, prob = 0.060\n",
      "Predicted = 0 ; true = 0.0, prob = 0.264\n",
      "Predicted = 0 ; true = 1.0, prob = 0.122\n",
      "Predicted = 0 ; true = 0.0, prob = 0.317\n",
      "Predicted = 0 ; true = 0.0, prob = 0.246\n",
      "Predicted = 0 ; true = 0.0, prob = 0.256\n",
      "Predicted = 0 ; true = 1.0, prob = 0.365\n",
      "Predicted = 0 ; true = 1.0, prob = 0.266\n",
      "Predicted = 0 ; true = 1.0, prob = 0.317\n",
      "Predicted = 0 ; true = 0.0, prob = 0.247\n",
      "Predicted = 0 ; true = 0.0, prob = 0.261\n",
      "Predicted = 0 ; true = 1.0, prob = 0.216\n",
      "Predicted = 0 ; true = 0.0, prob = 0.285\n",
      "Predicted = 0 ; true = 0.0, prob = 0.241\n",
      "Predicted = 0 ; true = 0.0, prob = 0.260\n",
      "Predicted = 0 ; true = 0.0, prob = 0.269\n",
      "Predicted = 0 ; true = 0.0, prob = 0.223\n",
      "Predicted = 0 ; true = 0.0, prob = 0.310\n",
      "Predicted = 0 ; true = 0.0, prob = 0.302\n",
      "Predicted = 0 ; true = 0.0, prob = 0.223\n",
      "Predicted = 0 ; true = 0.0, prob = 0.228\n",
      "Predicted = 0 ; true = 0.0, prob = 0.187\n",
      "Predicted = 0 ; true = 0.0, prob = 0.259\n",
      "Predicted = 0 ; true = 0.0, prob = 0.226\n",
      "Predicted = 0 ; true = 0.0, prob = 0.292\n",
      "Predicted = 0 ; true = 0.0, prob = 0.199\n",
      "Predicted = 0 ; true = 1.0, prob = 0.320\n",
      "Predicted = 0 ; true = 0.0, prob = 0.187\n",
      "Predicted = 0 ; true = 0.0, prob = 0.279\n",
      "Predicted = 0 ; true = 0.0, prob = 0.195\n",
      "Predicted = 0 ; true = 0.0, prob = 0.317\n",
      "Predicted = 0 ; true = 0.0, prob = 0.213\n",
      "Predicted = 0 ; true = 0.0, prob = 0.250\n",
      "Predicted = 0 ; true = 0.0, prob = 0.241\n",
      "Predicted = 0 ; true = 1.0, prob = 0.204\n",
      "Predicted = 0 ; true = 0.0, prob = 0.313\n",
      "Predicted = 0 ; true = 0.0, prob = 0.170\n",
      "Predicted = 0 ; true = 0.0, prob = 0.248\n",
      "Predicted = 0 ; true = 0.0, prob = 0.196\n",
      "Predicted = 0 ; true = 0.0, prob = 0.202\n",
      "Predicted = 0 ; true = 0.0, prob = 0.288\n",
      "Predicted = 0 ; true = 1.0, prob = 0.246\n",
      "Predicted = 0 ; true = 0.0, prob = 0.228\n",
      "Predicted = 0 ; true = 0.0, prob = 0.196\n",
      "Predicted = 0 ; true = 0.0, prob = 0.260\n",
      "Predicted = 0 ; true = 0.0, prob = 0.202\n",
      "Predicted = 0 ; true = 0.0, prob = 0.246\n",
      "Predicted = 0 ; true = 1.0, prob = 0.284\n",
      "Predicted = 0 ; true = 0.0, prob = 0.269\n",
      "Predicted = 0 ; true = 1.0, prob = 0.203\n",
      "Predicted = 0 ; true = 0.0, prob = 0.135\n",
      "Predicted = 0 ; true = 0.0, prob = 0.225\n",
      "Predicted = 0 ; true = 0.0, prob = 0.196\n",
      "Predicted = 0 ; true = 1.0, prob = 0.257\n",
      "Predicted = 0 ; true = 0.0, prob = 0.254\n",
      "Predicted = 0 ; true = 0.0, prob = 0.279\n",
      "Predicted = 0 ; true = 1.0, prob = 0.234\n",
      "Predicted = 0 ; true = 0.0, prob = 0.320\n",
      "Predicted = 0 ; true = 0.0, prob = 0.165\n",
      "Predicted = 0 ; true = 0.0, prob = 0.197\n",
      "Predicted = 0 ; true = 0.0, prob = 0.287\n",
      "Predicted = 0 ; true = 0.0, prob = 0.305\n",
      "Predicted = 0 ; true = 0.0, prob = 0.219\n",
      "Predicted = 0 ; true = 1.0, prob = 0.276\n",
      "Predicted = 0 ; true = 0.0, prob = 0.256\n",
      "Predicted = 0 ; true = 1.0, prob = 0.242\n",
      "Predicted = 0 ; true = 0.0, prob = 0.159\n",
      "Predicted = 0 ; true = 1.0, prob = 0.198\n",
      "Predicted = 0 ; true = 0.0, prob = 0.245\n",
      "Predicted = 0 ; true = 0.0, prob = 0.140\n",
      "Predicted = 0 ; true = 0.0, prob = 0.339\n",
      "Predicted = 0 ; true = 0.0, prob = 0.277\n",
      "Predicted = 0 ; true = 0.0, prob = 0.235\n"
     ]
    }
   ],
   "source": [
    "classifyLogistic = lambda prob: 1 if prob > 0.5 else 0\n",
    "classifyRandom = lambda prob: np.random.choice([0, 1])\n",
    "\n",
    "res = np.asarray(h(thetaBest, XTest)).flatten()\n",
    "ytest = np.asarray(yTest).flatten()\n",
    "\n",
    "for pred, tru in zip(res, ytest):\n",
    "    print(f\"Predicted = {classifyLogistic(pred)} ; true = {tru}, prob = {pred:.3f}\")\n",
    "\n",
    "classified = np.array(list(map(classifyLogistic, res)))\n",
    "classified_random = np.array(list(map(classifyRandom, res)))"
   ]
  },
  {
   "cell_type": "code",
   "execution_count": null,
   "metadata": {},
   "outputs": [],
   "source": []
  },
  {
   "cell_type": "code",
   "execution_count": 151,
   "metadata": {},
   "outputs": [],
   "source": [
    "# Skuteczność\n",
    "accuracy = sklearn.metrics.accuracy_score(classified, ytest)\n",
    "accuracy_random = sklearn.metrics.accuracy_score(classified_random, ytest)"
   ]
  },
  {
   "cell_type": "code",
   "execution_count": 152,
   "metadata": {
    "variables": {
     "accuracy": "0.7722772277227723"
    }
   },
   "outputs": [
    {
     "data": {
      "text/markdown": [
       "Skuteczność klasyfikatora losowego $\\approx 0.490$; Skuteczność modelu $\\approx 0.762$ "
      ],
      "text/plain": [
       "<IPython.core.display.Markdown object>"
      ]
     },
     "execution_count": 152,
     "metadata": {},
     "output_type": "execute_result"
    }
   ],
   "source": [
    "md(r\"Skuteczność klasyfikatora losowego $\\approx %.3f$; Skuteczność modelu $\\approx %.3f$ \" % (accuracy_random, accuracy))"
   ]
  },
  {
   "cell_type": "markdown",
   "metadata": {},
   "source": [
    "### Krzywa ROC i wartość AUC"
   ]
  },
  {
   "cell_type": "code",
   "execution_count": 153,
   "metadata": {},
   "outputs": [
    {
     "data": {
      "text/plain": [
       "[<matplotlib.lines.Line2D at 0x7fd30ba76910>]"
      ]
     },
     "execution_count": 153,
     "metadata": {},
     "output_type": "execute_result"
    },
    {
     "data": {
      "image/png": "[encoded data removed]",
      "text/plain": [
       "<Figure size 432x288 with 1 Axes>"
      ]
     },
     "metadata": {
      "needs_background": "light"
     },
     "output_type": "display_data"
    }
   ],
   "source": [
    "fpr, tpr, _  = sklearn.metrics.roc_curve(ytest,  res)\n",
    "fig, ax = plt.subplots()\n",
    "ax.plot(fpr, tpr)"
   ]
  },
  {
   "cell_type": "code",
   "execution_count": 154,
   "metadata": {},
   "outputs": [
    {
     "data": {
      "text/plain": [
       "0.6347389949357226"
      ]
     },
     "execution_count": 154,
     "metadata": {},
     "output_type": "execute_result"
    }
   ],
   "source": [
    "sklearn.metrics.roc_auc_score(ytest, res)"
   ]
  },
  {
   "cell_type": "markdown",
   "metadata": {},
   "source": [
    "### Krzywa Precision-Recall"
   ]
  },
  {
   "cell_type": "code",
   "execution_count": 155,
   "metadata": {
    "scrolled": true
   },
   "outputs": [
    {
     "data": {
      "text/plain": [
       "[<matplotlib.lines.Line2D at 0x7fd328aabc10>]"
      ]
     },
     "execution_count": 155,
     "metadata": {},
     "output_type": "execute_result"
    },
    {
     "data": {
      "image/png": "[encoded data removed]",
      "text/plain": [
       "<Figure size 432x288 with 1 Axes>"
      ]
     },
     "metadata": {
      "needs_background": "light"
     },
     "output_type": "display_data"
    }
   ],
   "source": [
    "precision, recall, _ = sklearn.metrics.precision_recall_curve(ytest, res)\n",
    "fig, ax = plt.subplots()\n",
    "ax.plot(recall, precision, c='purple')"
   ]
  },
  {
   "cell_type": "markdown",
   "metadata": {},
   "source": [
    "# Weryfikacja za pomocą scikit-learn'a"
   ]
  },
  {
   "cell_type": "code",
   "execution_count": 158,
   "metadata": {},
   "outputs": [
    {
     "data": {
      "text/plain": [
       "(0.6347714582521751, 0.7623762376237624)"
      ]
     },
     "execution_count": 158,
     "metadata": {},
     "output_type": "execute_result"
    },
    {
     "data": {
      "image/png": "[encoded data removed]",
      "text/plain": [
       "<Figure size 432x288 with 1 Axes>"
      ]
     },
     "metadata": {
      "needs_background": "light"
     },
     "output_type": "display_data"
    }
   ],
   "source": [
    "lr = linear_model.LogisticRegression()\n",
    "\n",
    "df_x, df_y = df.iloc[:, 0:4], df.iloc[:,4:]\n",
    "xtrain, xtest, ytrain, ytest = model_selection.train_test_split(df_x, df_y, test_size = 0.2, shuffle = False)\n",
    "\n",
    "lr.fit(xtrain, ytrain.to_numpy().ravel())\n",
    "\n",
    "scores = lr.predict_proba(xtest)[:, 1] # Prob that values are 1\n",
    "acc = lr.score(xtest, ytest.to_numpy().ravel())\n",
    "\n",
    "fpr, tpr, _ = sklearn.metrics.roc_curve(ytest, scores)\n",
    "plt.plot(fpr, tpr)\n",
    "# AUC, Accuracy\n",
    "sklearn.metrics.roc_auc_score(ytest, scores), lr.score(xtest, ytest.to_numpy().ravel())"
   ]
  },
  {
   "cell_type": "code",
   "execution_count": 157,
   "metadata": {},
   "outputs": [
    {
     "data": {
      "text/plain": [
       "[<matplotlib.lines.Line2D at 0x7fd324c6cf10>]"
      ]
     },
     "execution_count": 157,
     "metadata": {},
     "output_type": "execute_result"
    },
    {
     "data": {
      "image/png": "[encoded data removed]",
      "text/plain": [
       "<Figure size 432x288 with 1 Axes>"
      ]
     },
     "metadata": {
      "needs_background": "light"
     },
     "output_type": "display_data"
    }
   ],
   "source": [
    "precision, recall, _ = sklearn.metrics.precision_recall_curve(ytest, scores)\n",
    "plt.plot(recall, precision)"
   ]
  }
 ],
 "metadata": {
  "celltoolbar": "Slideshow",
  "kernelspec": {
   "display_name": "Python 3 (ipykernel)",
   "language": "python",
   "name": "python3"
  },
  "language_info": {
   "codemirror_mode": {
    "name": "ipython",
    "version": 3
   },
   "file_extension": ".py",
   "mimetype": "text/x-python",
   "name": "python",
   "nbconvert_exporter": "python",
   "pygments_lexer": "ipython3",
   "version": "3.9.7"
  },
  "livereveal": {
   "start_slideshow_at": "selected",
   "theme": "amu"
  },
  "varInspector": {
   "cols": {
    "lenName": 16,
    "lenType": 16,
    "lenVar": 40
   },
   "kernels_config": {
    "python": {
     "delete_cmd_postfix": "",
     "delete_cmd_prefix": "del ",
     "library": "var_list.py",
     "varRefreshCmd": "print(var_dic_list())"
    },
    "r": {
     "delete_cmd_postfix": ") ",
     "delete_cmd_prefix": "rm(",
     "library": "var_list.r",
     "varRefreshCmd": "cat(var_dic_list()) "
    }
   },
   "types_to_exclude": [
    "module",
    "function",
    "builtin_function_or_method",
    "instance",
    "_Feature"
   ],
   "window_display": false
  }
 },
 "nbformat": 4,
 "nbformat_minor": 4
}
